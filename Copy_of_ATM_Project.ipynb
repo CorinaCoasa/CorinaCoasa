{
  "nbformat": 4,
  "nbformat_minor": 0,
  "metadata": {
    "colab": {
      "provenance": [],
      "authorship_tag": "ABX9TyNoazfC7bz0nC+MWn2pHtwt",
      "include_colab_link": true
    },
    "kernelspec": {
      "name": "python3",
      "display_name": "Python 3"
    },
    "language_info": {
      "name": "python"
    }
  },
  "cells": [
    {
      "cell_type": "markdown",
      "metadata": {
        "id": "view-in-github",
        "colab_type": "text"
      },
      "source": [
        "<a href=\"https://colab.research.google.com/github/CorinaCoasa/CorinaCoasa/blob/main/Copy_of_ATM_Project.ipynb\" target=\"_parent\"><img src=\"https://colab.research.google.com/assets/colab-badge.svg\" alt=\"Open In Colab\"/></a>"
      ]
    },
    {
      "cell_type": "code",
      "execution_count": null,
      "metadata": {
        "id": "2r_xBSEgjzFh"
      },
      "outputs": [],
      "source": [
        "#Python ATM program simulator"
      ]
    },
    {
      "cell_type": "markdown",
      "source": [],
      "metadata": {
        "id": "TVTUV9Mxj4_1"
      }
    },
    {
      "cell_type": "code",
      "source": [
        "orrect_pin = 1234\n",
        "max_attempts = 3\n",
        "attempt = 1\n",
        "balance = 1000  # Initial balance\n",
        "\n",
        "while attempt <= max_attempts:\n",
        "    pin = int(input(\"Please enter your 4 digit PIN number:\\n\\n\"))\n",
        "\n",
        "    if pin == correct_pin:\n",
        "        print(\"Welcome to Elstree Bank\")\n",
        "        while True:\n",
        "            print(\"Please select an option:\")\n",
        "            print(\"1. Check Balance\")\n",
        "            print(\"2. Cash Withdrawal\")\n",
        "            print(\"3. Deposit Funds\")\n",
        "            print(\"4. Return Card\")\n",
        "\n",
        "            option = int(input(\"Enter your choice (1-4): \"))\n",
        "\n",
        "            if option == 1:\n",
        "                print(\"Your balance is £\", balance)\n",
        "            elif option == 2:\n",
        "                print(\"Choose an amount to withdraw:\")\n",
        "                print(\"1. £10\")\n",
        "                print(\"2. £20\")\n",
        "                print(\"3. £40\")\n",
        "                print(\"4. £60\")\n",
        "                print(\"5. £80\")\n",
        "                print(\"6. £100\")\n",
        "                print(\"7. Other Amount\")\n",
        "                print(\"8. Main Menu\")\n",
        "                print(\"9. Return Card\")\n",
        "\n",
        "                withdraw_option = int(input(\"Enter your choice (1-9): \"))\n",
        "\n",
        "                if withdraw_option in range(1, 7):\n",
        "                    amount = [10, 20, 40, 60, 80, 100][withdraw_option - 1]\n",
        "                elif withdraw_option == 7:\n",
        "                    amount = int(input(\"Enter the amount you would like to withdraw: £\"))\n",
        "                elif withdraw_option == 8:\n",
        "                    break  # Return to main menu\n",
        "                elif withdraw_option == 9:\n",
        "                    print(\"Thank you for using Paradox Corp Bank. Goodbye!\")\n",
        "                    quit()  # Exit the program\n",
        "                else:\n",
        "                    print(\"Invalid option. Please try again.\")\n",
        "\n",
        "                if balance >= amount:\n",
        "                    balance -= amount\n",
        "                    print(\"Withdrawal successful. Your new balance is £\", balance)\n",
        "                else:\n",
        "                    print(\"Insufficient funds. Please select a smaller amount.\")\n",
        "\n",
        "            elif option == 3:\n",
        "                deposit_amount = int(input(\"Enter the amount you would like to deposit: £\"))\n",
        "                balance += deposit_amount\n",
        "                print(\"Deposit successful. Your new balance is £\", balance)\n",
        "            elif option == 4:\n",
        "                print(\"Thank you for using Elstree Bank. Goodbye!\")\n",
        "                break  # Return card and exit\n",
        "            else:\n",
        "                print(\"Invalid option. Please try again.\")\n",
        "\n",
        "    else:\n",
        "        print(\"Incorrect PIN. Please try again.\")\n",
        "        attempt += 1\n",
        "\n",
        "if attempt > max_attempts:\n",
        "    print(\"Too many incorrect attempts. Your access is blocked.\")"
      ],
      "metadata": {
        "id": "b_iP8ldV6cYB",
        "colab": {
          "base_uri": "https://localhost:8080/"
        },
        "outputId": "35347f39-59d4-4aeb-8249-627a14b7362c"
      },
      "execution_count": null,
      "outputs": [
        {
          "output_type": "stream",
          "name": "stdout",
          "text": [
            "Please enter your 4 digit PIN number:\n",
            "\n",
            "1234\n",
            "Welcome to Elstree Bank\n",
            "Please select an option:\n",
            "1. Check Balance\n",
            "2. Cash Withdrawal\n",
            "3. Deposit Funds\n",
            "4. Return Card\n",
            "Enter your choice (1-4): 1\n",
            "Your balance is £ 1000\n",
            "Please select an option:\n",
            "1. Check Balance\n",
            "2. Cash Withdrawal\n",
            "3. Deposit Funds\n",
            "4. Return Card\n",
            "Enter your choice (1-4): 2\n",
            "Choose an amount to withdraw:\n",
            "1. £10\n",
            "2. £20\n",
            "3. £40\n",
            "4. £60\n",
            "5. £80\n",
            "6. £100\n",
            "7. Other Amount\n",
            "8. Main Menu\n",
            "9. Return Card\n",
            "Enter your choice (1-9): 3\n",
            "Withdrawal successful. Your new balance is £ 960\n",
            "Please select an option:\n",
            "1. Check Balance\n",
            "2. Cash Withdrawal\n",
            "3. Deposit Funds\n",
            "4. Return Card\n",
            "Enter your choice (1-4): 3\n",
            "Enter the amount you would like to deposit: £100\n",
            "Deposit successful. Your new balance is £ 1060\n",
            "Please select an option:\n",
            "1. Check Balance\n",
            "2. Cash Withdrawal\n",
            "3. Deposit Funds\n",
            "4. Return Card\n",
            "Enter your choice (1-4): 4\n",
            "Thank you for using Elstree Bank. Goodbye!\n"
          ]
        }
      ]
    },
    {
      "cell_type": "code",
      "source": [],
      "metadata": {
        "id": "1ZCG1BDllGBb"
      },
      "execution_count": null,
      "outputs": []
    },
    {
      "cell_type": "code",
      "source": [
        "\n",
        "\n"
      ],
      "metadata": {
        "id": "jQpMbGC-mOr_"
      },
      "execution_count": null,
      "outputs": []
    },
    {
      "cell_type": "code",
      "source": [
        "\n",
        "\n"
      ],
      "metadata": {
        "id": "uohoaoL-mT8n"
      },
      "execution_count": null,
      "outputs": []
    }
  ]
}